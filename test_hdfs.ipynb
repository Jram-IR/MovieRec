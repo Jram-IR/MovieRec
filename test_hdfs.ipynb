{
 "cells": [
  {
   "cell_type": "code",
   "execution_count": 1,
   "metadata": {},
   "outputs": [
    {
     "name": "stdout",
     "output_type": "stream",
     "text": [
      "Movies DataFrame Head:\n",
      "   movieId                               title  \\\n",
      "0        1                    Toy Story (1995)   \n",
      "1        2                      Jumanji (1995)   \n",
      "2        3             Grumpier Old Men (1995)   \n",
      "3        4            Waiting to Exhale (1995)   \n",
      "4        5  Father of the Bride Part II (1995)   \n",
      "\n",
      "                                        genres  \n",
      "0  Adventure|Animation|Children|Comedy|Fantasy  \n",
      "1                   Adventure|Children|Fantasy  \n",
      "2                               Comedy|Romance  \n",
      "3                         Comedy|Drama|Romance  \n",
      "4                                       Comedy  \n"
     ]
    }
   ],
   "source": [
    "from hdfs import InsecureClient\n",
    "import pandas as pd\n",
    "\n",
    "# HDFS configuration (Adjust the URL to match your HDFS setup)\n",
    "HDFS_URL = 'http://localhost:9870'  # HDFS Web UI address\n",
    "HDFS_CLIENT = InsecureClient(HDFS_URL, user='hadoop')  # 'hadoop' is the username\n",
    "\n",
    "# HDFS file path\n",
    "hdfs_file_path = '/movies.csv'\n",
    "\n",
    "# Function to read CSV from HDFS\n",
    "def read_csv_from_hdfs(hdfs_file_path):\n",
    "    try:\n",
    "        # Read the CSV file from HDFS\n",
    "        with HDFS_CLIENT.read(hdfs_file_path, encoding='utf-8') as reader:\n",
    "            # Load the CSV data into a Pandas DataFrame\n",
    "            df = pd.read_csv(reader)\n",
    "        return df\n",
    "    except Exception as e:\n",
    "        print(f\"Error reading file from HDFS: {e}\")\n",
    "        return None\n",
    "\n",
    "# Main logic\n",
    "if __name__ == \"__main__\":\n",
    "    # Read movies.csv from HDFS\n",
    "    df_movies = read_csv_from_hdfs(hdfs_file_path)\n",
    "\n",
    "    if df_movies is not None:\n",
    "        # Display the first 5 rows of the DataFrame\n",
    "        print(\"Movies DataFrame Head:\")\n",
    "        print(df_movies.head())\n",
    "    else:\n",
    "        print(\"Failed to load the file from HDFS.\")\n"
   ]
  }
 ],
 "metadata": {
  "kernelspec": {
   "display_name": "venv",
   "language": "python",
   "name": "python3"
  },
  "language_info": {
   "codemirror_mode": {
    "name": "ipython",
    "version": 3
   },
   "file_extension": ".py",
   "mimetype": "text/x-python",
   "name": "python",
   "nbconvert_exporter": "python",
   "pygments_lexer": "ipython3",
   "version": "3.10.11"
  }
 },
 "nbformat": 4,
 "nbformat_minor": 2
}
